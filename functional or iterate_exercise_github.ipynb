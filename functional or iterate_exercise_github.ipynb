{
 "cells": [
  {
   "cell_type": "markdown",
   "metadata": {},
   "source": [
    "import modul modul yang perlu"
   ]
  },
  {
   "cell_type": "markdown",
   "metadata": {},
   "source": [
    "https://gist.github.com/oskarkv/3168ea3f8d7530ccd94c97c19aafe266"
   ]
  },
  {
   "cell_type": "code",
   "execution_count": 1,
   "metadata": {},
   "outputs": [],
   "source": [
    "from functools import reduce\n",
    "import operator"
   ]
  },
  {
   "cell_type": "markdown",
   "metadata": {},
   "source": [
    "### fungsi-fungsi pendukung"
   ]
  },
  {
   "cell_type": "code",
   "execution_count": 2,
   "metadata": {},
   "outputs": [],
   "source": [
    "# operasi dasar\n",
    "add_ = lambda x, y : x+y\n",
    "sub_ = lambda x, y : x-y\n",
    "mul_ = lambda x, y : x*y\n",
    "div_ = lambda x, y : x/y\n",
    "\n",
    "inv = lambda f : lambda x : not f(x)\n",
    "pos = lambda x : x > 0\n",
    "neg = inv(pos)\n",
    "even = lambda x : x % 2 == 0\n",
    "odd = inv(even)"
   ]
  },
  {
   "cell_type": "markdown",
   "metadata": {},
   "source": [
    "### reduce"
   ]
  },
  {
   "cell_type": "code",
   "execution_count": 3,
   "metadata": {},
   "outputs": [],
   "source": [
    "# cara mikir 1\n",
    "def reduceku(f, lista):\n",
    "    hasil = lista[0]\n",
    "    for _ in lista[1:]: # looping buat elemen indx ke -1 dst\n",
    "        hasil = f(hasil, _) # kemudian dimasukin ke parameter fungsi\n",
    "    return hasil\n"
   ]
  },
  {
   "cell_type": "markdown",
   "metadata": {},
   "source": [
    "### filter"
   ]
  },
  {
   "cell_type": "code",
   "execution_count": 4,
   "metadata": {},
   "outputs": [
    {
     "data": {
      "text/plain": [
       "[1, 3, 5, 7, 9, 11, 13, 15, 17, 19]"
      ]
     },
     "execution_count": 4,
     "metadata": {},
     "output_type": "execute_result"
    }
   ],
   "source": [
    "\n",
    "lista = list(range(1,21))\n",
    "\n",
    "# cara 1\n",
    "def filterku(pred, iterable):\n",
    "    return [i for i in iterable if pred(i)]\n",
    "\n",
    "hasil = filterku(even, lista)\n",
    "\n",
    "# cara 2\n",
    "def filterku2(pred, iterable):\n",
    "    l = []\n",
    "    for i in iterable:\n",
    "        if pred(i):\n",
    "            l.append(i)\n",
    "    return l\n",
    "hasil = filterku2(odd, lista)\n",
    "\n",
    "# cara 3\n",
    "def filterku3(pred, iterable, l =[]):\n",
    "    if not len(iterable):\n",
    "        return l\n",
    "    elif pred(iterable[0]):\n",
    "        l.append(iterable[0])\n",
    "    return filterku3(pred, iterable[1:], l)\n",
    "hasil = filterku3(odd, lista)\n",
    "hasil"
   ]
  },
  {
   "cell_type": "markdown",
   "metadata": {},
   "source": [
    "### apply"
   ]
  },
  {
   "cell_type": "code",
   "execution_count": 5,
   "metadata": {},
   "outputs": [],
   "source": [
    "# bikin fungsi apply (kaya di clojure) manfaatin * (packing/unpacking) operation\n",
    "\n",
    "def applyku(f, iterable):\n",
    "    return(f(*iterable))\n",
    "\n",
    "# di clojrue apply f [1,2,3] == (f 1,2,3) jadi f nya yang masuk ke list karena gaya syntax clojure\n",
    "# di python apply/* f([1,2,3]) == f (1,2,3) yang di cemplungin list nya\n",
    "# di python dan clojure setiap fungsi bisa nerima sembarang N argumen N >= 0 integer\n",
    "\n",
    "# hasil_1 = tambah(*[12,3,5])\n",
    "# hasil_2 = applyku(tambah, [12,3,5])\n",
    "# print(hasil_1) # jadi apply di clojure itu ekuivalen sama *\n",
    "# print(hasil_2) # tapi agak beda cara pandangnya tapi mereka tetep sama\n",
    "\n",
    "# # print(tambah([12,3,5]))  tanpa */apply bakal error kenapa? cek fungsi tambah dibawah"
   ]
  },
  {
   "cell_type": "code",
   "execution_count": null,
   "metadata": {},
   "outputs": [],
   "source": []
  },
  {
   "cell_type": "markdown",
   "metadata": {},
   "source": [
    "<h3>Clist"
   ]
  },
  {
   "cell_type": "code",
   "execution_count": 6,
   "metadata": {},
   "outputs": [
    {
     "name": "stdout",
     "output_type": "stream",
     "text": [
      "[1, 2, 3, 4]\n",
      "[1, 2, 3, 4]\n",
      "[1, 2, 3, 4]\n",
      "[1, 2, 3, 4]\n"
     ]
    }
   ],
   "source": [
    "# bikin fungsi clist bikin list dari sembarang angka dari argumen\n",
    "\n",
    "# iterative tapi kita ga pake ini udah tanggung ditulis\n",
    "def clist(*args):\n",
    "    l = []\n",
    "    for num in args:\n",
    "        l.append(num)\n",
    "    return l\n",
    "print(clist(1,2,3,4))\n",
    "\n",
    "# the list way / pythonic\n",
    "def clist2(*args):\n",
    "    return list(args)\n",
    "print(clist2(1,2,3,4))\n",
    "\n",
    "# listcomp way\n",
    "def clist3(*args):\n",
    "    return [a for a in args]\n",
    "print(clist3(1,2,3,4))\n",
    "\n",
    "# recursive way\n",
    "def clist4(*args):\n",
    "    return [args[0]] + clist4(*(args[1:])) if args else []\n",
    "print(clist4(1,2,3,4))"
   ]
  },
  {
   "cell_type": "markdown",
   "metadata": {},
   "source": [
    "<h3>add"
   ]
  },
  {
   "cell_type": "code",
   "execution_count": 7,
   "metadata": {},
   "outputs": [
    {
     "name": "stdout",
     "output_type": "stream",
     "text": [
      "55\n",
      "55\n",
      "55\n",
      "55\n",
      "55\n"
     ]
    }
   ],
   "source": [
    "# bikin fungsi add\n",
    "\n",
    "# the iterative way\n",
    "def tambah(*args):\n",
    "    hasil = 0\n",
    "    for num in args:\n",
    "        hasil += num\n",
    "    return hasil\n",
    "print(tambah(1,2,3,4,5,6,7,8,9,10))\n",
    "\n",
    "# the pythonic way\n",
    "def tambah2(*args):\n",
    "    return sum(args)\n",
    "print(tambah2(1,2,3,4,5,6,7,8,9,10))\n",
    "\n",
    "# pake reduce \n",
    "def tambah5(*args):\n",
    "    return reduce(lambda x, y : x+y, args)\n",
    "print(tambah5(1,2,3,4,5,6,7,8,9,10))\n",
    "\n",
    "# the recursion way\n",
    "def tambah3(*args):\n",
    "    return args[0] + tambah3(*(args[1:])) if len(args) > 0 else 0\n",
    "print(tambah3(1,2,3,4,5,6,7,8,9,10))\n",
    "\n",
    "# another recursion style\n",
    "def tambah4(*args, hasil = 0):\n",
    "    return tambah4(*(args[1:]), hasil = hasil + args[0]) if len(args) > 0 else hasil\n",
    "print(tambah4(1,2,3,4,5,6,7,8,9,10))\n"
   ]
  },
  {
   "cell_type": "code",
   "execution_count": 8,
   "metadata": {},
   "outputs": [
    {
     "name": "stdout",
     "output_type": "stream",
     "text": [
      "15\n"
     ]
    }
   ],
   "source": [
    "print(reduceku(tambah, [1,2,3,4,5]))"
   ]
  },
  {
   "cell_type": "code",
   "execution_count": 9,
   "metadata": {},
   "outputs": [
    {
     "name": "stdout",
     "output_type": "stream",
     "text": [
      "20\n",
      "20\n"
     ]
    }
   ],
   "source": [
    "hasil_1 = tambah(*[12,3,5])\n",
    "hasil_2 = applyku(tambah, [12,3,5])\n",
    "print(hasil_1) # jadi apply di clojure itu ekuivalen sama *\n",
    "print(hasil_2) # tapi agak beda cara pandangnya tapi mereka tetep sama\n",
    "\n",
    "# print(tambah([12,3,5]))  tanpa */apply bakal error kenapa? cek fungsi tambah dibawah"
   ]
  },
  {
   "cell_type": "markdown",
   "metadata": {},
   "source": [
    "<h3>sub"
   ]
  },
  {
   "cell_type": "code",
   "execution_count": 10,
   "metadata": {},
   "outputs": [
    {
     "name": "stdout",
     "output_type": "stream",
     "text": [
      "-53\n",
      "-53\n",
      "-53\n"
     ]
    }
   ],
   "source": [
    "# bikin fungsi sub\n",
    "\n",
    "# the iterative way\n",
    "def kurang(*args):\n",
    "    hasil = args[0]\n",
    "    for i in range(1,len(args)):\n",
    "        hasil -= args[i]\n",
    "    return hasil\n",
    "print(kurang(1,2,3,4,5,6,7,8,9,10))\n",
    "\n",
    "\n",
    "# the reduce way\n",
    "def kurang2(*args):\n",
    "    return reduce(lambda x, y : x - y, args)\n",
    "print(kurang2(1,2,3,4,5,6,7,8,9,10))\n",
    "\n",
    "#the functional way juga\n",
    "def kurang3(*args):\n",
    "    return args[0] + -(sum(args[1:]))\n",
    "print(kurang3(1,2,3,4,5,6,7,8,9,10))\n"
   ]
  },
  {
   "cell_type": "markdown",
   "metadata": {},
   "source": [
    "<h3> compose"
   ]
  },
  {
   "cell_type": "code",
   "execution_count": 11,
   "metadata": {},
   "outputs": [
    {
     "name": "stdout",
     "output_type": "stream",
     "text": [
      "-10\n",
      "-10\n",
      "100\n"
     ]
    }
   ],
   "source": [
    "# fungsi komposisi tanpa *args\n",
    "negatifin = lambda x : -x\n",
    "double = lambda x : 2*x\n",
    "kuadrat = lambda x : x*x\n",
    "\n",
    "#cara bege\n",
    "def compose(f1, f2):\n",
    "    def sub_compose(num):\n",
    "        return f1(f2(num))\n",
    "    return sub_compose \n",
    "\n",
    "print(compose(negatifin, double)(5))\n",
    "\n",
    "# cara dari rosetacode\n",
    "compose2 = lambda f, g : lambda x: f(g(x))\n",
    "print(compose2(negatifin, double)(5))\n",
    "\n",
    "\n",
    "# multiple compotition pake *args\n",
    "#cara 1\n",
    "def composemul(*args):\n",
    "    def sub_compose(num):\n",
    "        for func in args:\n",
    "            num = func(num)\n",
    "        return num\n",
    "    return sub_compose\n",
    "\n",
    "print(composemul(negatifin, double, kuadrat)(5))\n"
   ]
  },
  {
   "cell_type": "markdown",
   "metadata": {},
   "source": [
    "<h3>zip"
   ]
  },
  {
   "cell_type": "code",
   "execution_count": 12,
   "metadata": {},
   "outputs": [
    {
     "name": "stdout",
     "output_type": "stream",
     "text": [
      "zipku\n",
      "[[1, 4], [2, 3], [3, 2], [4, 1]]\n",
      "zipku2\n",
      "[[1, 4], [2, 3], [3, 2], [4, 1]]\n",
      "zipku3\n",
      "[[1, 4], [2, 3], [3, 2], [4, 1]]\n",
      "zipku4\n",
      "[[1, 4], [2, 3], [3, 2], [4, 1]]\n",
      "zipku5\n",
      "[[1, 4], [2, 3], [3, 2], [4, 1]]\n",
      "zipku6\n",
      "[[1, 4], [2, 3], [3, 2], [4, 1]]\n",
      "zipku7\n",
      "[[1, 4], [2, 3], [3, 2], [4, 1]]\n",
      "zipku8\n",
      "[[1, 4], [2, 3], [3, 2], [4, 1]]\n"
     ]
    }
   ],
   "source": [
    "# buat fungsi zip yang return list \n",
    "\n",
    "# pake zip bawaan\n",
    "def zipku(iterable1, iterable2):\n",
    "    return  [[i,j] for i, j in zip(iterable1, iterable2)]\n",
    "print('zipku')\n",
    "print(zipku([1,2,3,4], [4,3,2,1]))\n",
    "\n",
    "# pake cara index ala ala cpp + listcomp\n",
    "def zipku2(iterable1, iterable2):\n",
    "    return [[iterable1[i], iterable2[i]] for i in range(len(iterable1))]\n",
    "print('zipku2')\n",
    "print(zipku2([1,2,3,4], [4,3,2,1]))\n",
    "\n",
    "# pake enumerate dan masih listcomp\n",
    "def zipku3(iterable1, iterable2):\n",
    "    return [[elm,iterable2[idx]] for idx , elm in enumerate(iterable1)]\n",
    "print('zipku3')\n",
    "print(zipku3([1,2,3,4], [4,3,2,1]))\n",
    "\n",
    "# pake versi for loop\n",
    "def zipku4(iterable1, iterable2):\n",
    "    lis = []\n",
    "    for i, j in zip(iterable1, iterable2):\n",
    "        lis.append([i,j])\n",
    "    return lis\n",
    "print('zipku4')\n",
    "print(zipku4([1,2,3,4], [4,3,2,1]))\n",
    "\n",
    "# pake for loop + range buat index\n",
    "def zipku5(iterable1, iterable2):\n",
    "    lis = []\n",
    "    for idx in range(len(iterable1)):\n",
    "        lis.append([iterable1[idx], iterable2[idx]])\n",
    "    return lis\n",
    "print('zipku5')\n",
    "print(zipku5([1,2,3,4], [4,3,2,1]))\n",
    "\n",
    "# pake for loop + variable (equivalent sama pake enumerate)\n",
    "def zipku6(iterable1, iterable2):\n",
    "    lis = []\n",
    "    idx = 0\n",
    "    for elm in iterable1:\n",
    "        lis.append([elm, iterable2[idx]])\n",
    "        idx +=1\n",
    "    return lis\n",
    "print('zipku6')\n",
    "print(zipku6([1,2,3,4], [4,3,2,1]))\n",
    "\n",
    "# pake for loop + enumerate\n",
    "def zipku7(iterable1, iterable2):\n",
    "    lis = []\n",
    "    for idx, elm in enumerate(iterable1):\n",
    "        lis.append([elm, iterable2[idx]])\n",
    "    return lis\n",
    "print('zipku7')\n",
    "print(zipku7([1,2,3,4], [4,3,2,1]))\n",
    "\n",
    "# pake for loop + zip bawaan\n",
    "\n",
    "def zipku8(iterable1, iterable2):\n",
    "    lis = []\n",
    "    for i, j in zip(iterable1, iterable2):\n",
    "        lis.append([i,j])\n",
    "    return lis\n",
    "print('zipku8')\n",
    "print(zipku8([1,2,3,4], [4,3,2,1]))\n"
   ]
  },
  {
   "cell_type": "markdown",
   "metadata": {},
   "source": [
    "<h3> zipmap"
   ]
  },
  {
   "cell_type": "code",
   "execution_count": 13,
   "metadata": {},
   "outputs": [
    {
     "name": "stdout",
     "output_type": "stream",
     "text": [
      "zipmapku1\n",
      "{1: 4, 2: 3, 3: 2, 4: 1}\n",
      "zipmapku2\n",
      "{1: 4, 2: 3, 3: 2, 4: 1}\n",
      "zipmapku3\n",
      "{1: 4, 2: 3, 3: 2, 4: 1}\n",
      "zipmapku4\n",
      "{1: 4, 2: 3, 3: 2, 4: 1}\n"
     ]
    }
   ],
   "source": [
    "# buat fungsi zipmap -> take 2 argument 1 for key n 2 for value args 1 n 2 must be iterable\n",
    "\n",
    "# cara 1\n",
    "\n",
    "def zipmapku(keys, vals):\n",
    "    return {key:val for key, val in zip(keys, vals) }\n",
    "print('zipmapku1')\n",
    "print(zipmapku([1,2,3,4], [4,3,2,1]))\n",
    "\n",
    "# dictcomp + enumerate\n",
    "def zipmapku2(keys, vals):\n",
    "    return {key:vals[idx] for idx, key in enumerate(keys)}\n",
    "print('zipmapku2')\n",
    "print(zipmapku2([1,2,3,4], [4,3,2,1]))\n",
    "\n",
    "# pake range\n",
    "def zipmapku3(keys, vals):\n",
    "    return {keys[idx]:vals[idx] for idx in range(len(keys))}\n",
    "print('zipmapku3')\n",
    "print(zipmapku3([1,2,3,4], [4,3,2,1]))\n",
    "\n",
    "# pake for loop + zip\n",
    "def zipmapku4(keys, vals):\n",
    "    dic = {}\n",
    "    for key, val in zip(keys, vals):\n",
    "        dic[key] = val\n",
    "    return dic\n",
    "print('zipmapku4')\n",
    "print(zipmapku4([1,2,3,4], [4,3,2,1]))"
   ]
  },
  {
   "cell_type": "markdown",
   "metadata": {},
   "source": [
    "<h3> zipwith ~ map "
   ]
  },
  {
   "cell_type": "code",
   "execution_count": 14,
   "metadata": {},
   "outputs": [
    {
     "name": "stdout",
     "output_type": "stream",
     "text": [
      "zipwithku1\n",
      "[5, 5, 5, 5]\n",
      "zipwithku2\n",
      "[5, 5, 5, 5]\n"
     ]
    }
   ],
   "source": [
    "# buat zipwith take two argument function and arbitary (sembarang) number of sequence\n",
    "# return as a list of number which applied by function\n",
    "\n",
    "# cara bege\n",
    "def zipwithku(f,*seq):\n",
    "    return [f(*num) for num in zip(*seq)]\n",
    "print('zipwithku1')\n",
    "print(zipwithku(tambah, [1,2,3,4], [4,3,2,1]))\n",
    "\n",
    "# cara generic\n",
    "def zipwithku2(f, *seq):\n",
    "    lista = []\n",
    "    for num in zip(*seq):\n",
    "        lista.append(f(*num))\n",
    "    return lista\n",
    "print('zipwithku2')\n",
    "print(zipwithku2(tambah, [1,2,3,4], [4,3,2,1]))\n",
    "\n"
   ]
  },
  {
   "cell_type": "markdown",
   "metadata": {},
   "source": [
    "<h3> partial"
   ]
  },
  {
   "cell_type": "code",
   "execution_count": 15,
   "metadata": {},
   "outputs": [
    {
     "name": "stdout",
     "output_type": "stream",
     "text": [
      "partialku1\n",
      "15\n",
      "partialku2\n",
      "15\n"
     ]
    }
   ],
   "source": [
    "# buat fungsi partial yang nge-partially applied its argument\n",
    "def partialku(f, *args):\n",
    "    def helper(*others):\n",
    "        return f(*args, *others)\n",
    "    return helper\n",
    "print('partialku1')\n",
    "print(partialku(tambah, 1,2,3)(4,5))\n",
    "\n",
    "# sama kaya cara diatas cuma pake lambda\n",
    "partialku2 = lambda f, *args : lambda *others : f(*args, *others)\n",
    "print('partialku2')\n",
    "print(partialku2(tambah, 1,2,3)(4,5))\n"
   ]
  },
  {
   "cell_type": "markdown",
   "metadata": {},
   "source": [
    "### tranpose"
   ]
  },
  {
   "cell_type": "code",
   "execution_count": 16,
   "metadata": {},
   "outputs": [
    {
     "name": "stdout",
     "output_type": "stream",
     "text": [
      "[[1, 4], [2, 5], [3, 6]]\n",
      "[[1, 2, 3], [4, 5, 6]]\n"
     ]
    }
   ],
   "source": [
    "# cara 1\n",
    "def transpose(lista):\n",
    "    return [[*i] for i in zip(*lista)]\n",
    "# cara 2\n",
    "def transpose2(lista):\n",
    "    return list(list(i) for i in zip(*lista))\n",
    "\n",
    "hasil = transpose2([[1, 2, 3], [4, 5, 6]])\n",
    "print(hasil)\n",
    "hasil = transpose([[1, 4], [2, 5], [3, 6]])\n",
    "print(hasil)"
   ]
  },
  {
   "cell_type": "markdown",
   "metadata": {},
   "source": [
    "### flip"
   ]
  },
  {
   "cell_type": "code",
   "execution_count": 17,
   "metadata": {},
   "outputs": [
    {
     "name": "stdout",
     "output_type": "stream",
     "text": [
      "[3, 2, 1]\n",
      "[3, 2, 1]\n"
     ]
    }
   ],
   "source": [
    "# cara 1\n",
    "def flip(*args):\n",
    "    return [*(args[::-1])]\n",
    "\n",
    "print(flip(1,2,3))\n",
    "\n",
    "# cara 2\n",
    "def flip2(*args):\n",
    "    return list(reversed(args))\n",
    "\n",
    "print(flip2(1,2,3))\n",
    "    "
   ]
  },
  {
   "cell_type": "markdown",
   "metadata": {},
   "source": [
    "### flips"
   ]
  },
  {
   "cell_type": "code",
   "execution_count": 18,
   "metadata": {},
   "outputs": [
    {
     "name": "stdout",
     "output_type": "stream",
     "text": [
      "0\n",
      "[3, 2, 1]\n"
     ]
    }
   ],
   "source": [
    "# take a function and flip the first and the second argument\n",
    "\n",
    "# def flips(f):\n",
    "#     def helper(l =[], *args):\n",
    "#         if len(args) == 1:\n",
    "#             return args\n",
    "#         elif len(args) == 2:\n",
    "#             return (args[1], args[0])\n",
    "#         else:\n",
    "#             return helper()\n",
    "\n",
    "# cara 2 work yeay walaupun gajelas caranya\n",
    "\n",
    "# fungsi penolong jg nih\n",
    "def fliped(*seq):\n",
    "    if len(seq) == 1:\n",
    "        return [*seq]\n",
    "    else:\n",
    "        *a, b = seq\n",
    "    return [b] + fliped(*a)\n",
    "\n",
    "def flips2(f):\n",
    "    def helper(*seq):\n",
    "        return f(*(fliped(*seq)))\n",
    "    return helper\n",
    "\n",
    "print(flips2(kurang)(1,2,3))\n",
    "print(flips2(clist)(1,2,3))\n"
   ]
  },
  {
   "cell_type": "markdown",
   "metadata": {},
   "source": [
    "### take"
   ]
  },
  {
   "cell_type": "code",
   "execution_count": 19,
   "metadata": {},
   "outputs": [
    {
     "name": "stdout",
     "output_type": "stream",
     "text": [
      "[0, 1, 2, 3, 4, 5, 6, 7, 8, 9, 10, 11, 12, 13, 14]\n",
      "[0, 1, 2, 3, 4, 5, 6, 7, 8, 9, 10, 11, 12, 13, 14]\n",
      "[0, 1, 2, 3, 4, 5, 6, 7, 8, 9, 10, 11, 12, 13, 14]\n"
     ]
    }
   ],
   "source": [
    "# cara 1\n",
    "def take(n, seq):\n",
    "    return list(seq[:n])\n",
    "\n",
    "print(take(15, range(20)))\n",
    "\n",
    "# cara 2\n",
    "def take2(n, seq, f=0):\n",
    "    if n == f:\n",
    "        return []\n",
    "    else:\n",
    "        return [seq[0]] + take2(n, seq[1:], f=f+1)\n",
    "print(take2(15, range(20)))\n",
    "\n",
    "# cara 2 lebih ringkas\n",
    "\n",
    "def take3(n, seq, f=0):\n",
    "    return [seq[0]] + take2(n, seq[1:], f=f+1) if f != n else []\n",
    "\n",
    "print(take3(15, range(20)))\n",
    "    "
   ]
  },
  {
   "cell_type": "markdown",
   "metadata": {},
   "source": [
    "### drop"
   ]
  },
  {
   "cell_type": "code",
   "execution_count": 20,
   "metadata": {},
   "outputs": [
    {
     "name": "stdout",
     "output_type": "stream",
     "text": [
      "[5, 6, 7, 8, 9]\n",
      "[5, 6, 7, 8, 9]\n"
     ]
    }
   ],
   "source": [
    "# cara 1\n",
    "def drop(n, seq):\n",
    "    return list(seq[n:])\n",
    "\n",
    "# cara 2\n",
    "def drop2(n, seq):\n",
    "    if n:\n",
    "        return [seq[len(seq)-n]] + drop2(n-1, seq)\n",
    "    else:\n",
    "        return []\n",
    "\n",
    "print(drop(5, range(10)))\n",
    "print(drop2(5, range(10)))"
   ]
  },
  {
   "cell_type": "markdown",
   "metadata": {},
   "source": [
    "### flatten"
   ]
  },
  {
   "cell_type": "code",
   "execution_count": 21,
   "metadata": {},
   "outputs": [
    {
     "name": "stdout",
     "output_type": "stream",
     "text": [
      "[1, 2, 3, 4, 5, 6, 7, 8, 9, 10]\n"
     ]
    }
   ],
   "source": [
    "# cara 1\n",
    "def flatten(alist, l=[]):\n",
    "    for l1 in alist:\n",
    "        if isinstance(l1, list):\n",
    "            flatten(l1, l)\n",
    "        else:\n",
    "            l.append(l1)\n",
    "    return l\n",
    "listb = [1, [2, 3]]\n",
    "lista = [1, [2,3,[4], [5,6], [7], 8, [9, 10]]]\n",
    "print(flatten(lista))\n",
    "         "
   ]
  },
  {
   "cell_type": "markdown",
   "metadata": {},
   "source": [
    "### interleave"
   ]
  },
  {
   "cell_type": "code",
   "execution_count": 22,
   "metadata": {},
   "outputs": [
    {
     "name": "stdout",
     "output_type": "stream",
     "text": [
      "[1, 10, 'a', 2, 20, 'b', 3, 30, 'c']\n"
     ]
    }
   ],
   "source": [
    "# cara 1\n",
    "def interleave(*lists):\n",
    "    l = []\n",
    "    for i in range(len(lists)):\n",
    "        for el in lists:\n",
    "            l.append(el[i])\n",
    "    return l\n",
    "\n",
    "print(interleave([1,2,3], [10,20,30], 'abc'))"
   ]
  },
  {
   "cell_type": "markdown",
   "metadata": {},
   "source": [
    "### every"
   ]
  },
  {
   "cell_type": "code",
   "execution_count": 23,
   "metadata": {},
   "outputs": [
    {
     "name": "stdout",
     "output_type": "stream",
     "text": [
      "False\n",
      "True\n"
     ]
    }
   ],
   "source": [
    "# cara 1\n",
    "def every(*funcs):\n",
    "    def helper(arg):\n",
    "        return all(func(arg) for func in funcs)\n",
    "    return helper\n",
    "\n",
    "\n",
    "\n",
    "# cara 2 masih salah\n",
    "def every2(*funcs):\n",
    "    def helper(arg):\n",
    "        if len(funcs):\n",
    "            return funcs[0](arg) and every2(*(funcs[1:]))\n",
    "    return helper\n",
    "print(every(pos, even)(7))\n",
    "print(every(pos, even)(8))"
   ]
  },
  {
   "cell_type": "markdown",
   "metadata": {},
   "source": [
    "### frequencies"
   ]
  },
  {
   "cell_type": "code",
   "execution_count": 24,
   "metadata": {},
   "outputs": [
    {
     "name": "stdout",
     "output_type": "stream",
     "text": [
      "{'a': 3, 'b': 2, 'c': 3}\n"
     ]
    }
   ],
   "source": [
    "# cara 1\n",
    "def freq(seq):\n",
    "    counter = {}\n",
    "    for el in seq:\n",
    "        if el not in counter:\n",
    "            counter[el] = 1\n",
    "        else:\n",
    "            counter[el] += 1\n",
    "    return counter\n",
    "\n",
    "print(freq('aabcbcac'))\n",
    "\n",
    "# cara 2\n"
   ]
  },
  {
   "cell_type": "markdown",
   "metadata": {},
   "source": [
    "### partition"
   ]
  },
  {
   "cell_type": "code",
   "execution_count": 25,
   "metadata": {},
   "outputs": [
    {
     "name": "stdout",
     "output_type": "stream",
     "text": [
      "[[0, 1, 2, 3], [4, 5, 6, 7], [8, 9, 10, 11], [12, 13, 14, 15], [16, 17, 18, 19]]\n",
      "[[1, 2, 3], [2, 3, 4], [3, 4, 5]]\n"
     ]
    }
   ],
   "source": [
    "def partition(n, step, coll):\n",
    "    '''refrensi : https://clojuredocs.org/clojure.core/partition'''\n",
    "    hasil = []\n",
    "    elem = []\n",
    "    for _ in range(0, len(coll), step):\n",
    "        if _ + n <= len(coll):\n",
    "            for el in range(n):\n",
    "                elem.append(coll[_+el])\n",
    "            hasil.append(elem)\n",
    "            del elem  # berharap bisa efisienin memori\n",
    "            elem = []\n",
    "    return hasil\n",
    "\n",
    "print(partition(4, 4, range(20)))\n",
    "print(partition(3, 1, range(1,6)))"
   ]
  },
  {
   "cell_type": "markdown",
   "metadata": {},
   "source": [
    "### merge_with"
   ]
  },
  {
   "cell_type": "code",
   "execution_count": 32,
   "metadata": {},
   "outputs": [
    {
     "name": "stdout",
     "output_type": "stream",
     "text": [
      "{'a': 25, 'b': 200, 'c': 15, 'd': 42}\n"
     ]
    }
   ],
   "source": [
    "# def max_dict(dicts):\n",
    "#     maks = 0\n",
    "#     ind_hasil = 0\n",
    "#     for indx, dicty in enumerate(dicts):\n",
    "#         if maks < len(dicty):\n",
    "#             maks = len(dicty)\n",
    "#             ind_hasil = indx\n",
    "#     return dicts[ind_hasil]\n",
    "\n",
    "# def merge_with(fun, *dicts):\n",
    "#     hasil = {}\n",
    "#     dictMax = max_dict(dicts)\n",
    "    \n",
    "#     # cek elemen pasangan key\n",
    "#     for key in dictMax.keys():\n",
    "#         for dic in dicts:\n",
    "#             if key not in dic:\n",
    "#                 break\n",
    "#         hasil[key] = fun(*(dic[key] for dic in dicts))\n",
    "#     return hasil\n",
    "\n",
    "def merge_with(f, *dics):\n",
    "    \n",
    "    \n",
    "    hasil = {}\n",
    "    keys = []\n",
    "    for dic in dics:\n",
    "        for key in dic.keys():\n",
    "            if key not in keys:\n",
    "                keys.append(key)\n",
    "    \n",
    "    for key in keys:\n",
    "        f_args = []\n",
    "        for dic in dics:\n",
    "            if key in dic.keys():\n",
    "                f_args.append(dic[key])\n",
    "        hasil[key] = f(*f_args)\n",
    "        del f_args\n",
    "    \n",
    "    return hasil\n",
    "\n",
    "\n",
    "a = {'a':1,  'b':2}\n",
    "b = {'a':9,  'b':98,  'c':0}\n",
    "c = {'a':10, 'b':100, 'c':10}\n",
    "d = {'a':5}\n",
    "e = {'c':5,  'd':42}\n",
    "\n",
    "\n",
    "print(merge_with(tambah, a, b, c, d, e))"
   ]
  },
  {
   "cell_type": "markdown",
   "metadata": {},
   "source": [
    "### memoize"
   ]
  },
  {
   "cell_type": "code",
   "execution_count": 29,
   "metadata": {},
   "outputs": [
    {
     "name": "stdout",
     "output_type": "stream",
     "text": [
      "6\n",
      "6\n"
     ]
    }
   ],
   "source": [
    "def memoize(fun):\n",
    "    dic = {}\n",
    "    def helper(*args):\n",
    "        if args not in dic:\n",
    "            dic[args] = fun(*args)\n",
    "        return dic[args]\n",
    "    return helper\n",
    "\n",
    "new_add = memoize(tambah)\n",
    "print(new_add(1,2,3))\n",
    "print(new_add(1,2,3)) # ga ada pemanggilan tambah, hasil diambil dari member checking di dictionary fungsi memoize\n",
    "\n"
   ]
  },
  {
   "cell_type": "markdown",
   "metadata": {},
   "source": [
    "### group_by"
   ]
  },
  {
   "cell_type": "code",
   "execution_count": 30,
   "metadata": {},
   "outputs": [
    {
     "data": {
      "text/plain": [
       "{3: ['hai', 'bob'], 4: ['mice'], 5: ['louis', 'tiara']}"
      ]
     },
     "execution_count": 30,
     "metadata": {},
     "output_type": "execute_result"
    }
   ],
   "source": [
    "def group_by(f, seq):\n",
    "    dic = {}\n",
    "    for el in seq:\n",
    "        key = f(el)\n",
    "        if key in dic:\n",
    "            dic[key].append(el)\n",
    "        else:\n",
    "            dic[key] = [el]\n",
    "    return dic\n",
    "\n",
    "group_by(len, ['hai', 'bob', 'mice', 'louis', 'tiara'])"
   ]
  },
  {
   "cell_type": "markdown",
   "metadata": {},
   "source": [
    "\n",
    "### balanced"
   ]
  },
  {
   "cell_type": "code",
   "execution_count": 33,
   "metadata": {},
   "outputs": [
    {
     "name": "stdout",
     "output_type": "stream",
     "text": [
      "True\n",
      "False\n",
      "True\n"
     ]
    }
   ],
   "source": [
    "# cara brute force\n",
    "def balanced(text):\n",
    "    kurung_l = 0\n",
    "    kurung_r = 0\n",
    "    siku_l = 0\n",
    "    siku_r = 0\n",
    "    brace_l = 0\n",
    "    brace_r = 0\n",
    "    pre  = 0\n",
    "    \n",
    "    for index,letter in enumerate(text):\n",
    "        if letter == '(':\n",
    "            kurung_l += 1\n",
    "        elif letter == '[':\n",
    "            siku_l += 1\n",
    "        elif letter == '{':\n",
    "            brace_l += 1\n",
    "        elif letter == ')':\n",
    "            kurung_r += 1\n",
    "        elif letter == ']':\n",
    "            siku_r += 1\n",
    "        elif letter == '}':\n",
    "            brace_r += 1\n",
    "    if kurung_l == kurung_r and siku_l == siku_r and brace_l == brace_r:\n",
    "        return True\n",
    "\n",
    "    return False\n",
    "\n",
    "# def balancedd(text):\n",
    "#     kurung = ('(', '{', '[',)\n",
    "#     kurung_inv = {')':'(', ']':'[', '}:':'{'}\n",
    "#     cek = ''\n",
    "#     for i in range(len(text)):\n",
    "#         if cek != '':\n",
    "#             if text[i] in kurung and text[i] != kurung_inv[cek]:\n",
    "#                 balancedd(text[i:])\n",
    "#         else:\n",
    "#             if tex[i] in kurung:\n",
    "#                 cek = text[i]\n",
    "\n",
    "# def balanced2(text, cek = ''):\n",
    "    \n",
    "#     start = 0\n",
    "#     valid = False\n",
    "#     k_l = ('(', '{', '[',)\n",
    "#     k_r = (')', '}', ']',)\n",
    "#     cek_t = {\n",
    "#         ')' : '(',\n",
    "#         ']' : '[',\n",
    "#         '{' : '}'\n",
    "#     }\n",
    "    \n",
    "# #     for i, t in enumerate(text):\n",
    "# #         if t in k_l:\n",
    "# #             if start == 0:\n",
    "# #                 start = 1\n",
    "# #                 cek = t\n",
    "# #             else:\n",
    "# #                 return balanced2(text[i])\n",
    "# #         elif t in k_r:\n",
    "# #             if cek_t[t] == cek:\n",
    "# #                 valid = True\n",
    "# #             else:\n",
    "# #                 return False\n",
    "\n",
    "# for i, t in enumerate(text):\n",
    "#     if t in k_l:\n",
    "#         balanced(text[1:], )\n",
    "\n",
    "\n",
    "print(balanced(\"abc(def{g}hi[jk]((()))l)m\"))\n",
    "print(balanced(\"a(b\"))\n",
    "print(balanced(\"([)]\"))\n"
   ]
  }
 ],
 "metadata": {
  "interpreter": {
   "hash": "20334665f714ef15f2a149b9af2265807cf915eabfcc6ee42c2a22a8c434479f"
  },
  "kernelspec": {
   "display_name": "Python 3.9.0 64-bit",
   "language": "python",
   "name": "python3"
  },
  "language_info": {
   "codemirror_mode": {
    "name": "ipython",
    "version": 3
   },
   "file_extension": ".py",
   "mimetype": "text/x-python",
   "name": "python",
   "nbconvert_exporter": "python",
   "pygments_lexer": "ipython3",
   "version": "3.9.0"
  }
 },
 "nbformat": 4,
 "nbformat_minor": 2
}
